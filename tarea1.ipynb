{
 "cells": [
  {
   "cell_type": "code",
   "execution_count": 5,
   "metadata": {
    "collapsed": false
   },
   "outputs": [
    {
     "data": {
      "text/plain": [
       "(7/8, 0.875)"
      ]
     },
     "execution_count": 5,
     "metadata": {
     },
     "output_type": "execute_result"
    }
   ],
   "source": [
    "#Divide 28 por 2 elevado a la quinta potencia como número racional y obtén después su aproximación decimal\n",
    "racional = 28 / (2^5)\n",
    "decimal = float(racional)\n",
    "\n",
    "racional, decimal"
   ]
  },
  {
   "cell_type": "code",
   "execution_count": 2,
   "metadata": {
    "collapsed": false
   },
   "outputs": [
    {
     "data": {
      "text/plain": [
       "1.414"
      ]
     },
     "execution_count": 2,
     "metadata": {
     },
     "output_type": "execute_result"
    }
   ],
   "source": [
    "#Obtén una aproximación decimal de raíz cuadrada de 2\n",
    "sqrt(2).n(digits=4)\n",
    "#redondea con digits-1 decimales"
   ]
  },
  {
   "cell_type": "code",
   "execution_count": 19,
   "metadata": {
    "collapsed": false
   },
   "outputs": [
    {
     "data": {
      "text/plain": [
       "3*I"
      ]
     },
     "execution_count": 19,
     "metadata": {
     },
     "output_type": "execute_result"
    }
   ],
   "source": [
    "#Calcula la raíz cuadrada de -9\n",
    "\n",
    "\n",
    "sqrt(-9)\n",
    "#donde I= +-sqrt(-1)"
   ]
  },
  {
   "cell_type": "code",
   "execution_count": 40,
   "metadata": {
    "collapsed": false
   },
   "outputs": [
    {
     "data": {
      "text/plain": [
       "51.0"
      ]
     },
     "execution_count": 40,
     "metadata": {
     },
     "output_type": "execute_result"
    }
   ],
   "source": [
    "#Calcula el logaritmo en base 3 de 2153693963075557766310747\n",
    "\n",
    "\n",
    "def logaritmo (arg, base):\n",
    "    return float (log (arg,base))\n",
    "              \n",
    "logaritmo (2153693963075557766310747,3)"
   ]
  },
  {
   "cell_type": "code",
   "execution_count": 21,
   "metadata": {
    "collapsed": false,
    "scrolled": true
   },
   "outputs": [
    {
     "data": {
      "text/plain": [
       "2.71828182845904523536028747135266249775724709369996"
      ]
     },
     "execution_count": 21,
     "metadata": {
     },
     "output_type": "execute_result"
    }
   ],
   "source": [
    "#Calcula las 50 primeras cifras decimales del número e\n",
    "\n",
    "\n",
    "e.n(digits=51)"
   ]
  },
  {
   "cell_type": "code",
   "execution_count": 22,
   "metadata": {
    "collapsed": false
   },
   "outputs": [
    {
     "data": {
      "text/plain": [
       "3.14159265358979323846264338327950288419716939937510582097494459230781640628620900"
      ]
     },
     "execution_count": 22,
     "metadata": {
     },
     "output_type": "execute_result"
    }
   ],
   "source": [
    "#Calcula las 80 primeras cifras decimales del número π\n",
    "\n",
    "\n",
    "π.n(digits=81)"
   ]
  },
  {
   "cell_type": "code",
   "execution_count": 5,
   "metadata": {
    "collapsed": false
   },
   "outputs": [
    {
     "data": {
      "text/plain": [
       "(9, 74)"
      ]
     },
     "execution_count": 5,
     "metadata": {
     },
     "output_type": "execute_result"
    }
   ],
   "source": [
    "#Obtén el cociente y el resto de dividir 956 entre 98\n",
    "\n",
    "\n",
    "#division = (956 // 98, 956 % 98)\n",
    "division = divmod (956, 98)\n",
    "#ambas lineas son iguales\n",
    "division"
   ]
  },
  {
   "cell_type": "code",
   "execution_count": 2,
   "metadata": {
    "collapsed": false
   },
   "outputs": [
    {
     "name": "stdout",
     "output_type": "stream",
     "text": [
      "no se verifica\n"
     ]
    }
   ],
   "source": [
    "#Comprueba que el cociente y el resto obtenidos en el apartado anterior son correctos con la prueba de Euclides\n",
    "#en nuestro caso, cociente, divisor y resto valen: 74, 98 y 9 respectivamente\n",
    "\n",
    "cociente = 74\n",
    "divisor = 98\n",
    "resto = 9\n",
    "\n",
    "euclides = ((cociente * divisor) + resto)\n",
    "\n",
    "\n",
    "if (euclides) == 956 : \n",
    "    print (\"se verifica\")\n",
    "else:\n",
    "    print (\"no se verifica\")\n",
    "     "
   ]
  },
  {
   "cell_type": "code",
   "execution_count": 10,
   "metadata": {
    "collapsed": false
   },
   "outputs": [
    {
     "name": "stdout",
     "output_type": "stream",
     "text": [
      "234878 no es divisible por 3.\n"
     ]
    }
   ],
   "source": [
    "#Determina si 3 divide 234878\n",
    "\n",
    "\n",
    "# verificar que 234878 es divisible entre 3\n",
    "#para ello el sumatorio de sus digitos debe ser multiplo de 3, es decir divisible entre 3\n",
    "def divisible(numero):\n",
    "    return numero % 3 == 0\n",
    "    \n",
    "numero = 234878\n",
    "if divisible(numero):\n",
    "    print(numero, \"es divisible por 3.\")\n",
    "else:\n",
    "    print(numero, \"no es divisible por 3.\")\n",
    "    \n",
    "\n",
    "\n"
   ]
  },
  {
   "cell_type": "code",
   "execution_count": 24,
   "metadata": {
    "collapsed": false
   },
   "outputs": [
    {
     "name": "stdout",
     "output_type": "stream",
     "text": [
      "divisores de 134 :  [1, 2, 67, 134]\n",
      "divisores de 491 :  [1, 491]\n",
      "divisores de 422  :  [1, 2, 211, 422]\n",
      "divisores de 1002  :  [1, 2, 3, 6, 167, 334, 501, 1002]\n"
     ]
    }
   ],
   "source": [
    "#Calcula la lista de divisores de cada uno de los siguientes números enteros: 134, 491, 422 y 1002\n",
    "\n",
    "\n",
    "def divisores (numero) :\n",
    "    divisores = []\n",
    "    for i in range(1, numero + 1):\n",
    "        if numero % i == 0 :\n",
    "            divisores.append (i)\n",
    "\n",
    "    return (divisores)        \n",
    "    print (divisores)\n",
    "        \n",
    "print (\"divisores de 134 : \" , divisores (134)) \n",
    "print (\"divisores de 491 : \" , divisores (491)) \n",
    "print (\"divisores de 422  : \" , divisores (422 )) \n",
    "print (\"divisores de 1002  : \" , divisores (1002)) \n",
    "\n",
    "    "
   ]
  },
  {
   "cell_type": "code",
   "execution_count": 37,
   "metadata": {
    "collapsed": false
   },
   "outputs": [
    {
     "name": "stdout",
     "output_type": "stream",
     "text": [
      "divisores de 134 [1, 2, 67, 134]\n",
      "divisores de 491 [1, 491]\n",
      "este numero es primo\n",
      "divisores de 422 [1, 2, 211, 422]\n",
      "divisores de 1002 [1, 2, 3, 6, 167, 334, 501, 1002]\n"
     ]
    }
   ],
   "source": [
    "#De los enteros del ejercicio anterior, ¿cuáles son números primos?\n",
    "\n",
    "\n",
    "'''cojo el codigo del apartado anterior y verificar que el numero es primo, es decir, que solo es divisible entre el mismo y la unidad.\n",
    "esto se cumple si la longitud de la lista de divisores es 2 '''\n",
    "def divisores (numero) :\n",
    "    divisores = []\n",
    "    for i in range(1, numero + 1):\n",
    "        if numero % i == 0 :\n",
    "            divisores.append (i)\n",
    "\n",
    "    return (divisores)        \n",
    "    print (divisores)\n",
    " \n",
    "numeros = [134, 491, 422, 1002]\n",
    "for i in numeros:\n",
    "    print (\"divisores de\", i , divisores(i))\n",
    "    if len(divisores(i)) == 2:\n",
    "        print (\"este numero es primo\")\n",
    "\n",
    "\n",
    "\n"
   ]
  },
  {
   "cell_type": "code",
   "execution_count": 0,
   "metadata": {
    "collapsed": false
   },
   "outputs": [
   ],
   "source": [
   ]
  },
  {
   "cell_type": "markdown",
   "metadata": {
    "collapsed": false
   },
   "source": [
    "\\#Calcula el máximo común divisor \\(mcd\\) y el mínimo común múltiple \\(mcm\\) para los pares de números enteros \\(2,5\\), \\(4,10\\) y \\(18, 51\\).\n",
    "\n"
   ]
  },
  {
   "cell_type": "code",
   "execution_count": 44,
   "metadata": {
    "collapsed": false
   },
   "outputs": [
    {
     "name": "stdout",
     "output_type": "stream",
     "text": [
      "Para el par (2,5): mcd = 1, mcm = 10\n",
      "Para el par (4,10): mcd = 2, mcm = 20\n",
      "Para el par (18,51): mcd = 3, mcm = 306\n"
     ]
    }
   ],
   "source": [
    "#Calcula el máximo común divisor (mcd) y el mínimo común múltiple (mcm) para los pares de números enteros (2,5), (4,10) y (18, 51).\n",
    "parejas = [(2, 5), (4, 10), (18, 51)]\n",
    "for pareja in parejas:\n",
    "    a, b = pareja\n",
    "    mcd = gcd(a, b)   # gcd es Greatest Common Divisor, una funcion en si\n",
    "    mcm = lcm(a, b)   # lcd es Lowest Common Multilple, una funcion tambien\n",
    "    print(f\"Para el par ({a},{b}): mcd = {mcd}, mcm = {mcm}\")\n"
   ]
  },
  {
   "cell_type": "code",
   "execution_count": 0,
   "metadata": {
    "collapsed": false
   },
   "outputs": [
   ],
   "source": [
   ]
  },
  {
   "cell_type": "code",
   "execution_count": 0,
   "metadata": {
    "collapsed": false
   },
   "outputs": [
   ],
   "source": [
   ]
  }
 ],
 "metadata": {
  "kernelspec": {
   "argv": [
    "sage-10.2",
    "--python",
    "-m",
    "sage.repl.ipython_kernel",
    "--matplotlib=inline",
    "-f",
    "{connection_file}"
   ],
   "display_name": "SageMath 10.2",
   "env": {
   },
   "language": "sagemath",
   "metadata": {
    "cocalc": {
     "description": "Open-source mathematical software system",
     "priority": 2,
     "url": "https://www.sagemath.org/"
    }
   },
   "name": "sage-10.2",
   "resource_dir": "/ext/jupyter/kernels/sage-10.2"
  },
  "language_info": {
   "codemirror_mode": {
    "name": "ipython",
    "version": 3
   },
   "file_extension": ".py",
   "mimetype": "text/x-python",
   "name": "python",
   "nbconvert_exporter": "python",
   "pygments_lexer": "ipython3",
   "version": "3.11.1"
  }
 },
 "nbformat": 4,
 "nbformat_minor": 4
}